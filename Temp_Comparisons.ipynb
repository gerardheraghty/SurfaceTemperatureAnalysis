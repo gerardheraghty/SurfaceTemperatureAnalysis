{
 "cells": [
  {
   "cell_type": "code",
   "execution_count": 1,
   "metadata": {},
   "outputs": [],
   "source": [
    "#importing the relevant packages\n",
    "import pandas as pd\n",
    "import numpy as np\n",
    "import os\n",
    "import matplotlib.pyplot as plt\n",
    "pd.options.mode.chained_assignment = None  # default='warn'\n",
    "from countrygroups import EUROPEAN_UNION\n",
    "import seaborn as sns\n",
    "from scipy import stats"
   ]
  },
  {
   "cell_type": "markdown",
   "metadata": {},
   "source": [
    "Loading in the datasets and assigning them to data frames"
   ]
  },
  {
   "cell_type": "code",
   "execution_count": 2,
   "metadata": {},
   "outputs": [],
   "source": [
    "dataset1=pd.read_csv('GlobalLandTemperaturesByCity.csv',index_col=['dt'])\n",
    "df_city=pd.DataFrame(dataset1)\n",
    "df_city=df_city.reset_index()\n",
    "\n",
    "dataset2 = pd.read_csv('GlobalLandTemperaturesByCountry.csv',index_col=['dt'])\n",
    "df_country=pd.DataFrame(dataset2)\n",
    "df_country=df_country.reset_index()\n"
   ]
  },
  {
   "cell_type": "markdown",
   "metadata": {},
   "source": [
    "Custom function defined to perform data cleaning by filling blank values with the average value for respective month"
   ]
  },
  {
   "cell_type": "code",
   "execution_count": 3,
   "metadata": {},
   "outputs": [],
   "source": [
    "def cleaning_data(df):\n",
    "\n",
    "    #casting date field to datetime format to utilise .dt.month attribute\n",
    "    df['dt'] = pd.to_datetime(df['dt'])\n",
    "    #creating a dictionary of the fields with null values\n",
    "    dictionary = (df.isna().any()==True).to_dict()\n",
    "    \n",
    "    #iterating through the dictionary to find where True\n",
    "    for col,val in dictionary.items():\n",
    "        if val == True:                  \n",
    "            #creating a dataframe of the null values\n",
    "            null_df = df[df.isna()[col]==True]\n",
    "            \n",
    "            #iterating through the null values and getting the mean for each month\n",
    "            for i in null_df.index:\n",
    "                month = df.loc[i,'dt'].to_pydatetime().month\n",
    "                mean = df[df[\"dt\"].dt.month == month].dropna()[col].mean()\n",
    "                df.at[i,col]=mean"
   ]
  },
  {
   "cell_type": "markdown",
   "metadata": {},
   "source": [
    "# Plotting the EU countries in rank of average temperature"
   ]
  },
  {
   "cell_type": "code",
   "execution_count": 4,
   "metadata": {},
   "outputs": [],
   "source": [
    "#using the countrygroups package to import the names of all EU countries\n",
    "EU_list = EUROPEAN_UNION.names\n",
    "#renaming Czechia to Czech Republic\n",
    "EU_list[5] = 'Czech Republic'\n",
    "\n",
    "#performing more data cleaning; repacing values with \"(Europe)\" appended on\n",
    "df_country['Country'].replace({'France (Europe)':'France','Denmark (Europe)':'Denmark','Netherlands (Europe)':'Netherlands','United Kingdom (Europe)':'Europe'},inplace=True)\n",
    "continents = ['North America','South America','Asia','Africa','Europe']\n",
    "\n",
    "#dataframe contains continents; need to remove these\n",
    "df_country=df_country[~df_country['Country'].isin(continents)]\n",
    "\n",
    "df_EU = df_country.set_index('Country').loc[EU_list,:].reset_index()\n"
   ]
  },
  {
   "cell_type": "code",
   "execution_count": 5,
   "metadata": {},
   "outputs": [],
   "source": [
    "#utilising data cleaning custom function\n",
    "cleaning_data(df_EU)"
   ]
  },
  {
   "cell_type": "code",
   "execution_count": 6,
   "metadata": {},
   "outputs": [],
   "source": [
    "df_EU=df_EU[df_EU['Country']!='Denmark']"
   ]
  },
  {
   "cell_type": "code",
   "execution_count": 7,
   "metadata": {},
   "outputs": [],
   "source": [
    "#grouping by means\n",
    "df_err = df_EU.groupby('Country')['AverageTemperatureUncertainty'].mean()\n",
    "df_EU = df_EU.groupby('Country')['AverageTemperature'].mean()\n",
    "df_EU = df_EU.reset_index()\n",
    "\n",
    "#joining averages and their corresponding uncertainties \n",
    "df_EU = df_EU.merge(df_err,left_on='Country',right_on='Country',how='right')\n",
    "\n",
    "#sorting dataframe\n",
    "df_EU = df_EU.sort_values(by='AverageTemperature',ascending=False)\n"
   ]
  },
  {
   "cell_type": "code",
   "execution_count": 8,
   "metadata": {},
   "outputs": [
    {
     "data": {
      "text/html": [
       "<div>\n",
       "<style scoped>\n",
       "    .dataframe tbody tr th:only-of-type {\n",
       "        vertical-align: middle;\n",
       "    }\n",
       "\n",
       "    .dataframe tbody tr th {\n",
       "        vertical-align: top;\n",
       "    }\n",
       "\n",
       "    .dataframe thead th {\n",
       "        text-align: right;\n",
       "    }\n",
       "</style>\n",
       "<table border=\"1\" class=\"dataframe\">\n",
       "  <thead>\n",
       "    <tr style=\"text-align: right;\">\n",
       "      <th></th>\n",
       "      <th>Country</th>\n",
       "      <th>AverageTemperature</th>\n",
       "      <th>AverageTemperatureUncertainty</th>\n",
       "    </tr>\n",
       "  </thead>\n",
       "  <tbody>\n",
       "    <tr>\n",
       "      <th>4</th>\n",
       "      <td>Cyprus</td>\n",
       "      <td>18.776836</td>\n",
       "      <td>1.006125</td>\n",
       "    </tr>\n",
       "    <tr>\n",
       "      <th>17</th>\n",
       "      <td>Malta</td>\n",
       "      <td>18.493579</td>\n",
       "      <td>1.449880</td>\n",
       "    </tr>\n",
       "    <tr>\n",
       "      <th>20</th>\n",
       "      <td>Portugal</td>\n",
       "      <td>14.688100</td>\n",
       "      <td>1.447690</td>\n",
       "    </tr>\n",
       "    <tr>\n",
       "      <th>10</th>\n",
       "      <td>Greece</td>\n",
       "      <td>14.646601</td>\n",
       "      <td>1.463677</td>\n",
       "    </tr>\n",
       "    <tr>\n",
       "      <th>24</th>\n",
       "      <td>Spain</td>\n",
       "      <td>13.512571</td>\n",
       "      <td>1.433661</td>\n",
       "    </tr>\n",
       "    <tr>\n",
       "      <th>13</th>\n",
       "      <td>Italy</td>\n",
       "      <td>12.656596</td>\n",
       "      <td>1.477725</td>\n",
       "    </tr>\n",
       "    <tr>\n",
       "      <th>8</th>\n",
       "      <td>France</td>\n",
       "      <td>11.539477</td>\n",
       "      <td>1.556118</td>\n",
       "    </tr>\n",
       "    <tr>\n",
       "      <th>3</th>\n",
       "      <td>Croatia</td>\n",
       "      <td>11.293308</td>\n",
       "      <td>1.553552</td>\n",
       "    </tr>\n",
       "    <tr>\n",
       "      <th>2</th>\n",
       "      <td>Bulgaria</td>\n",
       "      <td>10.453246</td>\n",
       "      <td>1.560515</td>\n",
       "    </tr>\n",
       "    <tr>\n",
       "      <th>11</th>\n",
       "      <td>Hungary</td>\n",
       "      <td>9.709842</td>\n",
       "      <td>1.572034</td>\n",
       "    </tr>\n",
       "    <tr>\n",
       "      <th>23</th>\n",
       "      <td>Slovenia</td>\n",
       "      <td>9.648533</td>\n",
       "      <td>1.596638</td>\n",
       "    </tr>\n",
       "    <tr>\n",
       "      <th>1</th>\n",
       "      <td>Belgium</td>\n",
       "      <td>9.476184</td>\n",
       "      <td>1.609671</td>\n",
       "    </tr>\n",
       "    <tr>\n",
       "      <th>12</th>\n",
       "      <td>Ireland</td>\n",
       "      <td>9.413803</td>\n",
       "      <td>1.519836</td>\n",
       "    </tr>\n",
       "    <tr>\n",
       "      <th>18</th>\n",
       "      <td>Netherlands</td>\n",
       "      <td>9.305445</td>\n",
       "      <td>1.616146</td>\n",
       "    </tr>\n",
       "    <tr>\n",
       "      <th>16</th>\n",
       "      <td>Luxembourg</td>\n",
       "      <td>9.165174</td>\n",
       "      <td>1.608941</td>\n",
       "    </tr>\n",
       "    <tr>\n",
       "      <th>21</th>\n",
       "      <td>Romania</td>\n",
       "      <td>8.769991</td>\n",
       "      <td>1.569780</td>\n",
       "    </tr>\n",
       "    <tr>\n",
       "      <th>9</th>\n",
       "      <td>Germany</td>\n",
       "      <td>8.175297</td>\n",
       "      <td>1.570575</td>\n",
       "    </tr>\n",
       "    <tr>\n",
       "      <th>5</th>\n",
       "      <td>Czech Republic</td>\n",
       "      <td>7.660686</td>\n",
       "      <td>1.573075</td>\n",
       "    </tr>\n",
       "    <tr>\n",
       "      <th>22</th>\n",
       "      <td>Slovakia</td>\n",
       "      <td>7.564111</td>\n",
       "      <td>1.591549</td>\n",
       "    </tr>\n",
       "    <tr>\n",
       "      <th>19</th>\n",
       "      <td>Poland</td>\n",
       "      <td>7.498610</td>\n",
       "      <td>1.595395</td>\n",
       "    </tr>\n",
       "    <tr>\n",
       "      <th>0</th>\n",
       "      <td>Austria</td>\n",
       "      <td>6.277296</td>\n",
       "      <td>1.571968</td>\n",
       "    </tr>\n",
       "    <tr>\n",
       "      <th>15</th>\n",
       "      <td>Lithuania</td>\n",
       "      <td>5.981379</td>\n",
       "      <td>1.587488</td>\n",
       "    </tr>\n",
       "    <tr>\n",
       "      <th>14</th>\n",
       "      <td>Latvia</td>\n",
       "      <td>5.407172</td>\n",
       "      <td>1.584525</td>\n",
       "    </tr>\n",
       "    <tr>\n",
       "      <th>6</th>\n",
       "      <td>Estonia</td>\n",
       "      <td>4.917718</td>\n",
       "      <td>1.580885</td>\n",
       "    </tr>\n",
       "    <tr>\n",
       "      <th>25</th>\n",
       "      <td>Sweden</td>\n",
       "      <td>2.539090</td>\n",
       "      <td>1.634569</td>\n",
       "    </tr>\n",
       "    <tr>\n",
       "      <th>7</th>\n",
       "      <td>Finland</td>\n",
       "      <td>1.423229</td>\n",
       "      <td>1.642683</td>\n",
       "    </tr>\n",
       "  </tbody>\n",
       "</table>\n",
       "</div>"
      ],
      "text/plain": [
       "           Country  AverageTemperature  AverageTemperatureUncertainty\n",
       "4           Cyprus           18.776836                       1.006125\n",
       "17           Malta           18.493579                       1.449880\n",
       "20        Portugal           14.688100                       1.447690\n",
       "10          Greece           14.646601                       1.463677\n",
       "24           Spain           13.512571                       1.433661\n",
       "13           Italy           12.656596                       1.477725\n",
       "8           France           11.539477                       1.556118\n",
       "3          Croatia           11.293308                       1.553552\n",
       "2         Bulgaria           10.453246                       1.560515\n",
       "11         Hungary            9.709842                       1.572034\n",
       "23        Slovenia            9.648533                       1.596638\n",
       "1          Belgium            9.476184                       1.609671\n",
       "12         Ireland            9.413803                       1.519836\n",
       "18     Netherlands            9.305445                       1.616146\n",
       "16      Luxembourg            9.165174                       1.608941\n",
       "21         Romania            8.769991                       1.569780\n",
       "9          Germany            8.175297                       1.570575\n",
       "5   Czech Republic            7.660686                       1.573075\n",
       "22        Slovakia            7.564111                       1.591549\n",
       "19          Poland            7.498610                       1.595395\n",
       "0          Austria            6.277296                       1.571968\n",
       "15       Lithuania            5.981379                       1.587488\n",
       "14          Latvia            5.407172                       1.584525\n",
       "6          Estonia            4.917718                       1.580885\n",
       "25          Sweden            2.539090                       1.634569\n",
       "7          Finland            1.423229                       1.642683"
      ]
     },
     "execution_count": 8,
     "metadata": {},
     "output_type": "execute_result"
    }
   ],
   "source": [
    "df_EU"
   ]
  },
  {
   "cell_type": "code",
   "execution_count": 9,
   "metadata": {},
   "outputs": [
    {
     "data": {
      "image/png": "[encoded data removed]",
      "text/plain": [
       "<Figure size 864x576 with 1 Axes>"
      ]
     },
     "metadata": {
      "needs_background": "light"
     },
     "output_type": "display_data"
    }
   ],
   "source": [
    "fig,ax = plt.subplots(figsize=(12,8))\n",
    "ax = sns.barplot(x='AverageTemperature',y='Country',data=df_EU,palette=\"Spectral\")\n",
    "\n",
    "ax.errorbar(df_EU['AverageTemperature'],df_EU['Country'],xerr=df_EU['AverageTemperatureUncertainty'],\n",
    "            elinewidth=1,capsize = 2,fmt = ' ')\n",
    "\n",
    "ax.set_title('Bar plot of Average Temperatures of EU Countries')\n",
    "plt.xticks(np.arange(0, 22, 2.5))\n",
    "plt.grid(color='gray', linestyle='-', linewidth=0.1)\n",
    "ax.set_xlabel('Average Temperature (°C)')\n",
    "plt.savefig('EUTemp.png', bbox_inches='tight')\n",
    "plt.show()\n"
   ]
  },
  {
   "cell_type": "code",
   "execution_count": 10,
   "metadata": {},
   "outputs": [],
   "source": [
    "#df_EU = df_EU.groupby('Country')['AverageTemperature'].mean()\n",
    "EU_list = EUROPEAN_UNION.names\n",
    "EU_list[5] = 'Czech Republic'\n",
    "\n",
    "df_country['Country'].replace({'France (Europe)':'France','Denmark (Europe)':'Denmark','Netherlands (Europe)':'Netherlands','United Kingdom (Europe)':'Europe'},inplace=True)\n",
    "\n",
    "df_EU = df_country.set_index('Country').loc[EU_list,:].reset_index()\n"
   ]
  },
  {
   "cell_type": "markdown",
   "metadata": {},
   "source": [
    "# Temperatures Difference Comparison"
   ]
  },
  {
   "cell_type": "markdown",
   "metadata": {},
   "source": [
    "The aim of this part is to show which countries have experienced the largest/smallest net temperature changes over the past 100 years"
   ]
  },
  {
   "cell_type": "code",
   "execution_count": 11,
   "metadata": {},
   "outputs": [],
   "source": [
    "dataset2 = pd.read_csv('GlobalLandTemperaturesByCountry.csv',index_col=['dt'])\n",
    "df_country=pd.DataFrame(dataset2)\n",
    "df_country=df_country.reset_index()"
   ]
  },
  {
   "cell_type": "code",
   "execution_count": 12,
   "metadata": {},
   "outputs": [],
   "source": [
    "dfcountry=df_country['Country'].replace({'France (Europe)':'France','Denmark (Europe)':'Denmark',\n",
    "                                         'Netherlands (Europe)':'Netherlands','United Kingdom (Europe)':'Europe'},\n",
    "                                        inplace=True)\n",
    "df_All = df_country\n",
    "df_All['dt'] = pd.to_datetime(df_All['dt'])\n",
    "df_All['Year'] = df_All['dt'].dt.year\n",
    "\n",
    "#only selecting out data after 1900 (for more accurate comparisons)\n",
    "df_All = df_All[df_All['Year']>=1900]\n"
   ]
  },
  {
   "cell_type": "markdown",
   "metadata": {},
   "source": [
    "Using a dictionary to initialise a blank dataframe to be appended to"
   ]
  },
  {
   "cell_type": "code",
   "execution_count": 13,
   "metadata": {},
   "outputs": [],
   "source": [
    "Country = []\n",
    "diff =  []\n",
    "new_dict = {'Country':Country, 'TempDiff':diff}\n",
    "df = pd.DataFrame(new_dict)"
   ]
  },
  {
   "cell_type": "markdown",
   "metadata": {},
   "source": [
    "Iterating through the dataframe by each unique country"
   ]
  },
  {
   "cell_type": "code",
   "execution_count": 14,
   "metadata": {},
   "outputs": [
    {
     "name": "stderr",
     "output_type": "stream",
     "text": [
      "/Users/Gerard/opt/anaconda3/lib/python3.8/site-packages/scipy/stats/stats.py:2497: RuntimeWarning: Mean of empty slice.\n",
      "  mns = a.mean(axis=axis, keepdims=True)\n",
      "/Users/Gerard/opt/anaconda3/lib/python3.8/site-packages/numpy/core/_methods.py:162: RuntimeWarning: invalid value encountered in true_divide\n",
      "  ret = um.true_divide(\n",
      "/Users/Gerard/opt/anaconda3/lib/python3.8/site-packages/numpy/core/_methods.py:233: RuntimeWarning: Degrees of freedom <= 0 for slice\n",
      "  ret = _var(a, axis=axis, dtype=dtype, out=out, ddof=ddof,\n",
      "/Users/Gerard/opt/anaconda3/lib/python3.8/site-packages/numpy/core/_methods.py:194: RuntimeWarning: invalid value encountered in true_divide\n",
      "  arrmean = um.true_divide(\n",
      "/Users/Gerard/opt/anaconda3/lib/python3.8/site-packages/numpy/core/_methods.py:223: RuntimeWarning: invalid value encountered in true_divide\n",
      "  ret = um.true_divide(\n"
     ]
    }
   ],
   "source": [
    "#concating all average temperatures per year for each country\n",
    "\n",
    "for country in df_All['Country'].unique():\n",
    "    df_new = df_All.set_index('Country').loc[country,:]\n",
    "    \n",
    "    df_err = df_new.groupby('Year')['AverageTemperatureUncertainty'].mean()\n",
    "    df_new = df_new.groupby('Year')['AverageTemperature'].mean()\n",
    "    df_new =df_new.reset_index()\n",
    "    df_err= df_err.reset_index()\n",
    "    df_new = df_new.dropna()\n",
    "    \n",
    "    #remove any obvious outliers (i.e more than 2.5 std away from the mean of the dataset)\n",
    "    df_new=df_new[(np.abs(stats.zscore(df_new['AverageTemperature'])) < 2.5)]\n",
    "    \n",
    "    #getting the average temperatures across the first 50 and last 50 years in dataset for each country\n",
    "    first_50 = df_new.sort_values(by='Year',ascending=True)[:50]\n",
    "    first_50 = first_50['AverageTemperature'].mean()\n",
    "    \n",
    "    last_50 = df_new.sort_values(by='Year',ascending=False)[:50]\n",
    "    last_50 = last_50['AverageTemperature'].mean()\n",
    "    \n",
    "    #calculating the difference between the average temperatures for first/last 50 years\n",
    "    difference = last_50 - first_50\n",
    "    \n",
    "    #creating dataframe using country and differences\n",
    "    df_new = pd.DataFrame({'Country':[country,], 'TempDiff':[difference,]})\n",
    "    \n",
    "    #concatenting above dataframe to one we previously initialised\n",
    "    df = pd.concat([df,df_new])\n",
    "        "
   ]
  },
  {
   "cell_type": "markdown",
   "metadata": {},
   "source": [
    "sorting temperature differences to determine countries with largest and smallest differences"
   ]
  },
  {
   "cell_type": "code",
   "execution_count": 15,
   "metadata": {},
   "outputs": [],
   "source": [
    "bigChange = df.sort_values(by='TempDiff',ascending=False)[:10]\n",
    "smallChange = df.sort_values(by='TempDiff',ascending=True)[:10]\n",
    "smallChange = smallChange.sort_values(by='TempDiff',ascending=False)"
   ]
  },
  {
   "cell_type": "code",
   "execution_count": 16,
   "metadata": {},
   "outputs": [
    {
     "data": {
      "text/html": [
       "<div>\n",
       "<style scoped>\n",
       "    .dataframe tbody tr th:only-of-type {\n",
       "        vertical-align: middle;\n",
       "    }\n",
       "\n",
       "    .dataframe tbody tr th {\n",
       "        vertical-align: top;\n",
       "    }\n",
       "\n",
       "    .dataframe thead th {\n",
       "        text-align: right;\n",
       "    }\n",
       "</style>\n",
       "<table border=\"1\" class=\"dataframe\">\n",
       "  <thead>\n",
       "    <tr style=\"text-align: right;\">\n",
       "      <th></th>\n",
       "      <th>Country</th>\n",
       "      <th>TempDiff</th>\n",
       "    </tr>\n",
       "  </thead>\n",
       "  <tbody>\n",
       "    <tr>\n",
       "      <th>0</th>\n",
       "      <td>Togo</td>\n",
       "      <td>0.317125</td>\n",
       "    </tr>\n",
       "    <tr>\n",
       "      <th>0</th>\n",
       "      <td>Sao Tome And Principe</td>\n",
       "      <td>0.312767</td>\n",
       "    </tr>\n",
       "    <tr>\n",
       "      <th>0</th>\n",
       "      <td>Greece</td>\n",
       "      <td>0.303845</td>\n",
       "    </tr>\n",
       "    <tr>\n",
       "      <th>0</th>\n",
       "      <td>Congo</td>\n",
       "      <td>0.300324</td>\n",
       "    </tr>\n",
       "    <tr>\n",
       "      <th>0</th>\n",
       "      <td>Faroe Islands</td>\n",
       "      <td>0.266879</td>\n",
       "    </tr>\n",
       "    <tr>\n",
       "      <th>0</th>\n",
       "      <td>Svalbard And Jan Mayen</td>\n",
       "      <td>0.225678</td>\n",
       "    </tr>\n",
       "    <tr>\n",
       "      <th>0</th>\n",
       "      <td>French Southern And Antarctic Lands</td>\n",
       "      <td>0.173141</td>\n",
       "    </tr>\n",
       "    <tr>\n",
       "      <th>0</th>\n",
       "      <td>Greenland</td>\n",
       "      <td>0.163870</td>\n",
       "    </tr>\n",
       "    <tr>\n",
       "      <th>0</th>\n",
       "      <td>Heard Island And Mcdonald Islands</td>\n",
       "      <td>0.156959</td>\n",
       "    </tr>\n",
       "    <tr>\n",
       "      <th>0</th>\n",
       "      <td>Iceland</td>\n",
       "      <td>0.152928</td>\n",
       "    </tr>\n",
       "  </tbody>\n",
       "</table>\n",
       "</div>"
      ],
      "text/plain": [
       "                               Country  TempDiff\n",
       "0                                 Togo  0.317125\n",
       "0                Sao Tome And Principe  0.312767\n",
       "0                               Greece  0.303845\n",
       "0                                Congo  0.300324\n",
       "0                        Faroe Islands  0.266879\n",
       "0               Svalbard And Jan Mayen  0.225678\n",
       "0  French Southern And Antarctic Lands  0.173141\n",
       "0                            Greenland  0.163870\n",
       "0    Heard Island And Mcdonald Islands  0.156959\n",
       "0                              Iceland  0.152928"
      ]
     },
     "execution_count": 16,
     "metadata": {},
     "output_type": "execute_result"
    }
   ],
   "source": [
    "smallChange"
   ]
  },
  {
   "cell_type": "code",
   "execution_count": 17,
   "metadata": {},
   "outputs": [
    {
     "data": {
      "image/png": "[encoded data removed]",
      "text/plain": [
       "<Figure size 576x576 with 2 Axes>"
      ]
     },
     "metadata": {
      "needs_background": "light"
     },
     "output_type": "display_data"
    }
   ],
   "source": [
    "fig,axes = plt.subplots(2,figsize=(8,8))\n",
    "\n",
    "ax = sns.barplot(x='TempDiff',y='Country',data=bigChange,palette=\"autumn\",ax=axes[0])\n",
    "\n",
    "ax1 = sns.barplot(x='TempDiff',y='Country',data=smallChange,palette=\"cool\",ax=axes[1])\n",
    "\n",
    "texts = ax.set(ylabel=\"Country\", xlabel=\"Temperature difference (°C)\", \n",
    "               title=\"Countries with the highest temperature differences\")\n",
    "\n",
    "texts1 = ax1.set(ylabel=\"Country\", xlabel=\"Temperature difference (°C)\",\n",
    "                 title=\"Countries with the smallest temperature differences\")\n",
    "\n",
    "ax.set_xticks(np.arange(0, 1.2, 0.1))\n",
    "ax1.set_xticks(np.arange(0, 1.2, 0.1))\n",
    "fig.tight_layout(pad=3.0)\n",
    "ax.grid(color='gray', linestyle='-', linewidth=0.1)\n",
    "ax1.grid(color='gray', linestyle='-', linewidth=0.1)\n",
    "plt.savefig('highLowTemps.png', bbox_inches='tight')\n",
    "#sns.barplot(x='TempDiff',y='Country',data=smallChange,palette=\"Spectral\")"
   ]
  },
  {
   "cell_type": "markdown",
   "metadata": {},
   "source": [
    "# Looking a bit closer at country with biggest change : Kazakhstan"
   ]
  },
  {
   "cell_type": "code",
   "execution_count": 18,
   "metadata": {},
   "outputs": [],
   "source": [
    "#more data frame manipulation\n",
    "\n",
    "df_one_country = df_country[df_country['Country']=='Kazakhstan']\n",
    "df_one_country = df_one_country.dropna()\n",
    "df_one_country['Year'] = df_one_country['dt'].dt.year\n",
    "df_one_country = df_one_country.groupby('Year')['AverageTemperature'].mean()\n",
    "df_one_country = df_one_country.reset_index()\n",
    "\n",
    "#again we want to ignore obvious outliers as much as possible\n",
    "df_one_country = df_one_country[(np.abs(stats.zscore(df_one_country['AverageTemperature'])) < 2.5)]\n",
    "\n",
    "#only looking at dates after 1900\n",
    "df_one_country = df_one_country[df_one_country['Year']>1900]\n",
    "\n"
   ]
  },
  {
   "cell_type": "markdown",
   "metadata": {},
   "source": [
    "Here we will utilise seaborns implot to fit a regression model to kazakhstans average temperature over time. This gives us a clear picture of the obvious correlation"
   ]
  },
  {
   "cell_type": "code",
   "execution_count": 19,
   "metadata": {},
   "outputs": [
    {
     "data": {
      "image/png": "[encoded data removed]",
      "text/plain": [
       "<Figure size 360x360 with 1 Axes>"
      ]
     },
     "metadata": {
      "needs_background": "light"
     },
     "output_type": "display_data"
    }
   ],
   "source": [
    "\n",
    "plot = sns.lmplot(data=df_one_country, x=\"Year\", y=\"AverageTemperature\",markers='.')\n",
    "plot.set(xlim=(1898, 2015))\n",
    "plt.ylabel('Average Temperature (°C)')\n",
    "plt.grid(color='gray', linestyle='-', linewidth=0.1)\n",
    "plt.title('Average Temp vs Year for Kazakhstan')\n",
    "plt.savefig('Kazakhstan.png', bbox_inches='tight')\n",
    "plt.show()\n"
   ]
  },
  {
   "cell_type": "code",
   "execution_count": null,
   "metadata": {},
   "outputs": [],
   "source": []
  }
 ],
 "metadata": {
  "kernelspec": {
   "display_name": "Python 3",
   "language": "python",
   "name": "python3"
  },
  "language_info": {
   "codemirror_mode": {
    "name": "ipython",
    "version": 3
   },
   "file_extension": ".py",
   "mimetype": "text/x-python",
   "name": "python",
   "nbconvert_exporter": "python",
   "pygments_lexer": "ipython3",
   "version": "3.8.5"
  }
 },
 "nbformat": 4,
 "nbformat_minor": 4
}
