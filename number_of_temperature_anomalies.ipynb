{
 "cells": [
  {
   "cell_type": "code",
   "execution_count": 2,
   "metadata": {},
   "outputs": [],
   "source": [
    "import pandas as pd\n",
    "import numpy as np\n",
    "import matplotlib.pyplot as plt\n",
    "import seaborn as sns"
   ]
  },
  {
   "cell_type": "markdown",
   "metadata": {},
   "source": [
    "loading in the dataset"
   ]
  },
  {
   "cell_type": "code",
   "execution_count": 3,
   "metadata": {},
   "outputs": [],
   "source": [
    "global_temp_byCountry = pd.read_csv(\"GlobalLandTemperaturesByCountry.csv\")"
   ]
  },
  {
   "cell_type": "code",
   "execution_count": 4,
   "metadata": {},
   "outputs": [],
   "source": [
    "global_temp_byCountry['dt'] = pd.to_datetime(global_temp_byCountry['dt'])\n",
    "global_temp_byCountry['Year'] = global_temp_byCountry['dt'].dt.year\n",
    "#dropping null values\n",
    "global_temp_byCountry=global_temp_byCountry.dropna()\n",
    "\n",
    "#initialising two null numpy arrays\n",
    "avg_temp = np.array([])\n",
    "year = np.array([],dtype=int)\n",
    "\n",
    "\n",
    "#using iterrows to create two numpy arrays with average temperature and year respectively\n",
    "for index,row in global_temp_byCountry.iterrows():\n",
    "    if row['Country']=='United States':\n",
    "        avg_temp = np.append(avg_temp,row['AverageTemperature'])\n",
    "        year = np.append(year,row['Year'])\n",
    "        "
   ]
  },
  {
   "cell_type": "markdown",
   "metadata": {},
   "source": [
    "Creating a dataframe using the two numpy arrays using the zip function"
   ]
  },
  {
   "cell_type": "code",
   "execution_count": 5,
   "metadata": {},
   "outputs": [],
   "source": [
    "\n",
    "master_array = zip(avg_temp,year)\n",
    "data = pd.DataFrame(master_array,columns=['AverageTemperature','Year'])    "
   ]
  },
  {
   "cell_type": "code",
   "execution_count": 6,
   "metadata": {},
   "outputs": [],
   "source": [
    "#grouping by the max and min temperatures by decade\n",
    "maxTemps = data.groupby((data['Year']//10)*10)['AverageTemperature'].max().reset_index()\n",
    "maxTemps= maxTemps.rename(columns={\"AverageTemperature\": \"MaxTemperature\"})\n",
    "\n",
    "minTemps = data.groupby((data['Year']//10)*10)['AverageTemperature'].min().reset_index()\n",
    "minTemps= minTemps.rename(columns={\"AverageTemperature\": \"MinTemperature\"})\n"
   ]
  },
  {
   "cell_type": "code",
   "execution_count": 7,
   "metadata": {},
   "outputs": [],
   "source": [
    "#merging the two datasets and selecting out where the year is greater than 1900\n",
    "MaxMinTemp = maxTemps.merge(minTemps,how='right',left_on='Year',right_on='Year')\n",
    "MaxMinTemp = MaxMinTemp[MaxMinTemp['Year']>1900]"
   ]
  },
  {
   "cell_type": "markdown",
   "metadata": {},
   "source": [
    "# Plotting a bar chart illustrating the max and min temperatures per decade since 1900 in the US"
   ]
  },
  {
   "cell_type": "code",
   "execution_count": 8,
   "metadata": {},
   "outputs": [
    {
     "data": {
      "image/png": "[encoded data removed]",
      "text/plain": [
       "<Figure size 1152x432 with 1 Axes>"
      ]
     },
     "metadata": {
      "needs_background": "light"
     },
     "output_type": "display_data"
    }
   ],
   "source": [
    "fig, ax = plt.subplots(1, figsize=(16, 6))\n",
    "plt.bar(MaxMinTemp['Year'], MaxMinTemp['MaxTemperature'], width = 8, color = '#fd625e')\n",
    "plt.bar(MaxMinTemp['Year'], MaxMinTemp['MinTemperature'], width = 8, color = '#01b8aa')\n",
    "\n",
    "# remove spines\n",
    "ax.spines['right'].set_visible(True)\n",
    "ax.spines['top'].set_visible(False)\n",
    "\n",
    "\n",
    "plt.ylabel('Degrees (Celcius)')\n",
    "plt.xticks(MaxMinTemp['Year'])\n",
    "\n",
    "ax.set_axisbelow(True)\n",
    "ax.yaxis.grid(color='gray', linestyle='dashed', alpha=0.2)\n",
    "\n",
    "#the values of each bar, rounding to 2 decimal places\n",
    "labels = round(pd.concat([MaxMinTemp['MaxTemperature'],MaxMinTemp['MinTemperature']]),2)\n",
    "\n",
    "#plotting the values of each bar on top of the bar\n",
    "for r, label in zip(ax.patches, labels):\n",
    "    height = r.get_height()\n",
    "    ax.text(r.get_x() + r.get_width() / 2, height, label, ha=\"center\", va=\"bottom\")\n",
    "\n",
    "plt.ylim(-10, 30)\n",
    "plt.title('Maximum/Minimum temperatures for each decade in the United States')\n",
    "plt.legend(['MaxTemp', 'MinTemp'], loc='upper left', ncol = 2)\n",
    "plt.savefig('maxminTemp.png', bbox_inches='tight')\n",
    "plt.show()"
   ]
  },
  {
   "cell_type": "markdown",
   "metadata": {},
   "source": [
    "# Plotting number of temperature anomalies for each decade in Russia"
   ]
  },
  {
   "cell_type": "markdown",
   "metadata": {},
   "source": [
    "Note: Temperature anomaly is when the registered temperature is 2 degrees higher or lower than the mean for that specfic time of the year, where the mean is measured over a sustained period of time (i.e 40 years)"
   ]
  },
  {
   "cell_type": "code",
   "execution_count": 10,
   "metadata": {},
   "outputs": [],
   "source": [
    "global_temp_byCountry['dt'] = pd.to_datetime(global_temp_byCountry['dt'])\n",
    "global_temp_byCountry['Year'] = global_temp_byCountry['dt'].dt.year\n",
    "global_temp_byCountry=global_temp_byCountry.dropna()\n",
    "\n",
    "#selecint out data for Russia specifically\n",
    "anom_data= global_temp_byCountry[global_temp_byCountry['Country']=='Russia']\n",
    "\n",
    "anom_data=anom_data[anom_data['dt']>'1900-01-01']"
   ]
  },
  {
   "cell_type": "code",
   "execution_count": 11,
   "metadata": {},
   "outputs": [],
   "source": [
    "anom_data=anom_data[(anom_data['Year']>=1950) & (anom_data['Year']<2010)]\n",
    "\n",
    "#calculating the mean for each month of the year\n",
    "monthly_mean=anom_data.groupby((anom_data['dt'].dt.month))['AverageTemperature'].mean().reset_index()\n",
    "monthly_mean=monthly_mean.rename(columns={'dt':'month','AverageTemperature':'monthly_mean'})\n",
    "\n",
    "#using a right join to merge the monthly mean to the dataframe\n",
    "anom_data=anom_data.merge(monthly_mean,how='right',left_on=anom_data['dt'].dt.month,right_on='month')\n",
    "\n",
    "#initialising the anomaly column as 0, this will serve as an anomaly indicator, where 1 is max anomaly, \n",
    "#2 is min anomaly\n",
    "anom_data['Anomaly'] = 0"
   ]
  },
  {
   "cell_type": "markdown",
   "metadata": {},
   "source": [
    "to calculate the temperature anomalies I want to firstly calculate the difference between the temperature and the average temperature for that month. I will then use an if block to check if this difference is >=2 or <=2."
   ]
  },
  {
   "cell_type": "code",
   "execution_count": 12,
   "metadata": {},
   "outputs": [],
   "source": [
    "for index,rows in anom_data.iterrows():\n",
    "    diff = rows['AverageTemperature'] - (rows['monthly_mean'])\n",
    "    if diff >= 2:\n",
    "        anom_data.iloc[index,7] = 1\n",
    "    elif diff <=-2:\n",
    "        anom_data.iloc[index,7] = 2\n"
   ]
  },
  {
   "cell_type": "code",
   "execution_count": 13,
   "metadata": {},
   "outputs": [],
   "source": [
    "#seperating based on \"type\" of anomaly\n",
    "max_anom = anom_data[anom_data['Anomaly']==1]\n",
    "min_anom = anom_data[anom_data['Anomaly']==2]"
   ]
  },
  {
   "cell_type": "code",
   "execution_count": 14,
   "metadata": {},
   "outputs": [
    {
     "data": {
      "text/html": [
       "<div>\n",
       "<style scoped>\n",
       "    .dataframe tbody tr th:only-of-type {\n",
       "        vertical-align: middle;\n",
       "    }\n",
       "\n",
       "    .dataframe tbody tr th {\n",
       "        vertical-align: top;\n",
       "    }\n",
       "\n",
       "    .dataframe thead th {\n",
       "        text-align: right;\n",
       "    }\n",
       "</style>\n",
       "<table border=\"1\" class=\"dataframe\">\n",
       "  <thead>\n",
       "    <tr style=\"text-align: right;\">\n",
       "      <th></th>\n",
       "      <th>Year</th>\n",
       "      <th>max_anom_count</th>\n",
       "      <th>min_anom_count</th>\n",
       "    </tr>\n",
       "  </thead>\n",
       "  <tbody>\n",
       "    <tr>\n",
       "      <th>0</th>\n",
       "      <td>1950</td>\n",
       "      <td>4</td>\n",
       "      <td>17</td>\n",
       "    </tr>\n",
       "    <tr>\n",
       "      <th>1</th>\n",
       "      <td>1960</td>\n",
       "      <td>6</td>\n",
       "      <td>17</td>\n",
       "    </tr>\n",
       "    <tr>\n",
       "      <th>2</th>\n",
       "      <td>1970</td>\n",
       "      <td>4</td>\n",
       "      <td>14</td>\n",
       "    </tr>\n",
       "    <tr>\n",
       "      <th>3</th>\n",
       "      <td>1980</td>\n",
       "      <td>12</td>\n",
       "      <td>11</td>\n",
       "    </tr>\n",
       "    <tr>\n",
       "      <th>4</th>\n",
       "      <td>1990</td>\n",
       "      <td>19</td>\n",
       "      <td>5</td>\n",
       "    </tr>\n",
       "    <tr>\n",
       "      <th>5</th>\n",
       "      <td>2000</td>\n",
       "      <td>22</td>\n",
       "      <td>5</td>\n",
       "    </tr>\n",
       "  </tbody>\n",
       "</table>\n",
       "</div>"
      ],
      "text/plain": [
       "   Year  max_anom_count  min_anom_count\n",
       "0  1950               4              17\n",
       "1  1960               6              17\n",
       "2  1970               4              14\n",
       "3  1980              12              11\n",
       "4  1990              19               5\n",
       "5  2000              22               5"
      ]
     },
     "execution_count": 14,
     "metadata": {},
     "output_type": "execute_result"
    }
   ],
   "source": [
    "#grouping anomalies by decade in which they occurred and getting a count of each decade\n",
    "\n",
    "max_count = max_anom.groupby((max_anom['Year']//10)*10)['Anomaly'].count().reset_index()\n",
    "min_count = min_anom.groupby((min_anom['Year']//10)*10)['Anomaly'].count().reset_index()\n",
    "max_count= max_count.rename(columns={'Anomaly':'max_anom_count'})\n",
    "min_count= min_count.rename(columns={'Anomaly':'min_anom_count'})\n",
    "\n",
    "maxmin_anom = max_count.merge(min_count,how='right',left_on='Year',right_on='Year')\n",
    "maxmin_anom"
   ]
  },
  {
   "cell_type": "markdown",
   "metadata": {},
   "source": [
    "# Illustrating anomalies as bar plot"
   ]
  },
  {
   "cell_type": "code",
   "execution_count": 389,
   "metadata": {},
   "outputs": [
    {
     "name": "stderr",
     "output_type": "stream",
     "text": [
      "<ipython-input-389-f8ada2d98348>:12: UserWarning: FixedFormatter should only be used together with FixedLocator\n",
      "  ax.set_yticklabels([int(abs(tick)) for tick in ticks])\n"
     ]
    },
    {
     "data": {
      "image/png": "[encoded data removed]",
      "text/plain": [
       "<Figure size 1008x432 with 1 Axes>"
      ]
     },
     "metadata": {},
     "output_type": "display_data"
    }
   ],
   "source": [
    "fig, ax = plt.subplots(1, figsize=(14, 6))\n",
    "plt.bar(maxmin_anom['Year'], maxmin_anom['max_anom_count'], width = 5, color = '#fd625e')\n",
    "plt.bar(maxmin_anom['Year'], -1*maxmin_anom['min_anom_count'], width = 5, color = '#01b8aa')\n",
    "\n",
    "plt.ylabel('Anonaly Count')\n",
    "plt.xticks(maxmin_anom['Year'])\n",
    "\n",
    "ax.set_axisbelow(True)\n",
    "ax.yaxis.grid(color='gray', linestyle='dashed', alpha=0.2)\n",
    "#ax.set_xticks(ax.get_xticks()[::2]) \n",
    "ticks =  ax.get_yticks()\n",
    "ax.set_yticklabels([int(abs(tick)) for tick in ticks])\n",
    "\n",
    "\n",
    "plt.tight_layout()\n",
    "plt.title('Number of maximum and minimum temperature anomalies each year',size=15)\n",
    "plt.legend(['Max (>2 deg)', 'Min (<2 deg)'], loc='upper left', ncol = 2)\n",
    "plt.savefig('Anomalies.png', bbox_inches='tight')\n",
    "plt.show()"
   ]
  },
  {
   "cell_type": "code",
   "execution_count": null,
   "metadata": {},
   "outputs": [],
   "source": []
  }
 ],
 "metadata": {
  "kernelspec": {
   "display_name": "Python 3",
   "language": "python",
   "name": "python3"
  },
  "language_info": {
   "codemirror_mode": {
    "name": "ipython",
    "version": 3
   },
   "file_extension": ".py",
   "mimetype": "text/x-python",
   "name": "python",
   "nbconvert_exporter": "python",
   "pygments_lexer": "ipython3",
   "version": "3.8.5"
  }
 },
 "nbformat": 4,
 "nbformat_minor": 4
}
